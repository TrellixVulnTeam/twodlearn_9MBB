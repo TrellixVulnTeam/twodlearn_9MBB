{
 "cells": [
  {
   "cell_type": "code",
   "execution_count": 1,
   "metadata": {},
   "outputs": [],
   "source": [
    "import twodlearn as tdl\n",
    "import twodlearn.debug\n",
    "import twodlearn.datasets.mnist\n",
    "import twodlearn.datasets.cifar10\n",
    "import tensorflow as tf\n",
    "from functools import reduce"
   ]
  },
  {
   "cell_type": "code",
   "execution_count": 2,
   "metadata": {},
   "outputs": [
    {
     "name": "stdout",
     "output_type": "stream",
     "text": [
      "File already downloaded.\n",
      "File already downloaded.\n",
      "File already downloaded.\n",
      "File already downloaded.\n",
      "loading data/mnist/train-images-idx3-ubyte.gz\n",
      "loading data/mnist/t10k-images-idx3-ubyte.gz\n"
     ]
    }
   ],
   "source": [
    "dataset = tdl.datasets.mnist.MnistDataset(work_directory='data/mnist', reshape=False)\n",
    "#dataset = tdl.datasets.cifar10.Cifar10(work_directory='data/cifar10')\n",
    "n_classes = dataset.train.y.shape[-1]\n",
    "input_shape = dataset.train.x.shape[1:]"
   ]
  },
  {
   "cell_type": "code",
   "execution_count": 3,
   "metadata": {},
   "outputs": [],
   "source": [
    "stacked = tdl.stacked.StackedLayers(name='classifier')\n",
    "with tf.name_scope(stacked.scope):\n",
    "    stacked.add(tdl.convnet.Conv2DLayer(kernel_size=[5,5], filters=32,\n",
    "                                        bias={'trainable': True},\n",
    "                                        input_shape=(None,)+input_shape))\n",
    "    stacked.add(tf.keras.layers.ReLU())\n",
    "    stacked.add(tf.keras.layers.MaxPool2D(pool_size=[2,2]))\n",
    "    stacked.add(tdl.convnet.Conv2DLayer(kernel_size=[5,5], filters=64))\n",
    "    stacked.add(tf.keras.layers.MaxPool2D(pool_size=[2,2]))\n",
    "    stacked.add(tf.keras.layers.ReLU())\n",
    "    conv_dims = stacked.compute_output_shape(input_shape=(None,)+input_shape)\n",
    "    reduce_dims = reduce(lambda x, y: x*y, conv_dims.as_list()[1:])\n",
    "    stacked.add(tf.keras.layers.Reshape((reduce_dims,)))\n",
    "    stacked.add(tdl.feedforward.AffineLayer(units=512))\n",
    "    #stacked.add(tf.keras.layers.Dense(units=512))\n",
    "    stacked.add(tf.keras.layers.ReLU())\n",
    "    stacked.add(tf.keras.layers.Dense(units=n_classes))\n",
    "    stacked.add(tf.keras.layers.Softmax())\n",
    "    \n",
    "#@tdl.debug.stop_at_error\n",
    "#def test():\n",
    "inputs = tf.keras.Input(shape=input_shape)\n",
    "predictions = stacked(inputs)\n",
    "model = tf.keras.Model(inputs=inputs, outputs=predictions)\n",
    "#test()"
   ]
  },
  {
   "cell_type": "code",
   "execution_count": 4,
   "metadata": {},
   "outputs": [],
   "source": [
    "model.compile(optimizer=tf.train.AdamOptimizer(0.002),\n",
    "              loss='categorical_crossentropy',\n",
    "              metrics=['accuracy'])\n",
    "tdl.core.variables_initializer(tdl.core.get_variables(stacked))\\\n",
    "   .run(session=tf.keras.backend.get_session())\n",
    "\n",
    "logger = tf.keras.callbacks.TensorBoard()\n",
    "logger.set_model(model)\n"
   ]
  },
  {
   "cell_type": "code",
   "execution_count": 5,
   "metadata": {},
   "outputs": [
    {
     "name": "stdout",
     "output_type": "stream",
     "text": [
      "Epoch 1/2\n",
      "54000/54000 [==============================] - 11s 212us/step - loss: 0.1076 - acc: 0.9673\n",
      "Epoch 2/2\n",
      "54000/54000 [==============================] - 10s 192us/step - loss: 0.0427 - acc: 0.9870\n"
     ]
    },
    {
     "data": {
      "text/plain": [
       "<tensorflow.python.keras.callbacks.History at 0x7f6f2edc3080>"
      ]
     },
     "execution_count": 5,
     "metadata": {},
     "output_type": "execute_result"
    }
   ],
   "source": [
    "model.fit(dataset.train.x, dataset.train.y, batch_size=32, epochs=2)"
   ]
  },
  {
   "cell_type": "code",
   "execution_count": 6,
   "metadata": {},
   "outputs": [
    {
     "name": "stdout",
     "output_type": "stream",
     "text": [
      "54000/54000 [==============================] - 5s 99us/step\n",
      "6000/6000 [==============================] - 1s 95us/step\n"
     ]
    }
   ],
   "source": [
    "_, train_accuracy = model.evaluate(dataset.train.x, dataset.train.y)\n",
    "_, test_accuracy = model.evaluate(dataset.valid.x, dataset.valid.y)"
   ]
  },
  {
   "cell_type": "code",
   "execution_count": 12,
   "metadata": {},
   "outputs": [],
   "source": [
    "assert (train_accuracy>0.98) and ((test_accuracy>0.97)), \"Accurary of convnet test lower than expected\""
   ]
  },
  {
   "cell_type": "code",
   "execution_count": null,
   "metadata": {},
   "outputs": [],
   "source": []
  }
 ],
 "metadata": {
  "kernelspec": {
   "display_name": "Python 3",
   "language": "python",
   "name": "python3"
  },
  "language_info": {
   "codemirror_mode": {
    "name": "ipython",
    "version": 3
   },
   "file_extension": ".py",
   "mimetype": "text/x-python",
   "name": "python",
   "nbconvert_exporter": "python",
   "pygments_lexer": "ipython3",
   "version": "3.5.2"
  }
 },
 "nbformat": 4,
 "nbformat_minor": 2
}
