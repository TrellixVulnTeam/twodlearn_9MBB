{
 "cells": [
  {
   "cell_type": "code",
   "execution_count": 1,
   "metadata": {},
   "outputs": [],
   "source": [
    "import tensorflow as tf\n",
    "import numpy as np\n",
    "import twodlearn.feedforward as tdlf\n",
    "from twodlearn import common\n",
    "from twodlearn.bayesnet import *\n",
    "from twodlearn import monitoring\n",
    "from twodlearn.datasets.generic import Datasets\n",
    "from twodlearn.optim import OptimizationManager\n",
    "import twodlearn.tests.bayesnet_test as test\n",
    "import matplotlib.pyplot as plt\n",
    "%matplotlib inline"
   ]
  },
  {
   "cell_type": "code",
   "execution_count": 2,
   "metadata": {},
   "outputs": [],
   "source": [
    "is_dataset_heteroscedastic = True\n",
    "is_model_heteroscedastic = True"
   ]
  },
  {
   "cell_type": "markdown",
   "metadata": {},
   "source": [
    "### 1. Create Dataset"
   ]
  },
  {
   "cell_type": "code",
   "execution_count": 3,
   "metadata": {},
   "outputs": [
    {
     "name": "stdout",
     "output_type": "stream",
     "text": [
      "Data set created, shape:  (1000,)\n"
     ]
    }
   ],
   "source": [
    "if is_dataset_heteroscedastic:\n",
    "    dataset = test.create_heteroscedastic_dataset(n_samples=1000)\n",
    "else:\n",
    "    dataset = test.create_homoscedastic_dataset(n_samples=1000)"
   ]
  },
  {
   "cell_type": "markdown",
   "metadata": {},
   "source": [
    "### 2. Define Model"
   ]
  },
  {
   "cell_type": "code",
   "execution_count": 4,
   "metadata": {},
   "outputs": [],
   "source": [
    "tf.reset_default_graph()\n",
    "sess = tf.InteractiveSession()"
   ]
  },
  {
   "cell_type": "code",
   "execution_count": 5,
   "metadata": {},
   "outputs": [],
   "source": [
    "n_inputs= 1\n",
    "n_hidden = [10]\n",
    "n_outputs= 1 \n",
    "\n",
    "inputs = tf.placeholder(tf.float32)\n",
    "with common.reuse_scope():\n",
    "    #gaussian = BayesianMlp(n_inputs, n_outputs, n_hidden).evaluate(inputs)\n",
    "    #bernoulli = BernoulliBayesianMlp(n_inputs, n_outputs, n_hidden)(inputs)\n",
    "    if is_model_heteroscedastic:\n",
    "        p_y_model = HeteroscedasticNormalMlp({'n_inputs':n_inputs,\n",
    "                                                'n_outputs':n_outputs,\n",
    "                                                'n_hidden':n_hidden,\n",
    "                                                'afunction':tdlf.selu01},\n",
    "                                               {'n_inputs':n_inputs,\n",
    "                                                'n_outputs':n_outputs,\n",
    "                                                'n_hidden':[20],\n",
    "                                                'afunction':tdlf.selu01,\n",
    "                                                'lower':0.05,\n",
    "                                                'upper':None}\n",
    "                                               )\n",
    "        p_y = p_y_model(inputs)\n",
    "        with tf.name_scope('loss'):\n",
    "            fit_loss = GaussianNegLogLikelihood(p_y)\n",
    "            reg_loc = GaussianKL(p_y.loc.weights,\n",
    "                                 tf.distributions.Normal(loc=0.0,\n",
    "                                                         scale=1000.0))\n",
    "            reg_scale = GaussianKL(p_y.scale.weights,\n",
    "                                   tf.distributions.Normal(loc=0.0,\n",
    "                                                           scale=100.0))\n",
    "            reg_loss = reg_loc.value + reg_scale.value\n",
    "        \n",
    "    else:\n",
    "        p_y_model = ConditionalNormalMlp({'n_inputs':n_inputs,\n",
    "                                        'n_outputs':n_outputs,\n",
    "                                        'n_hidden':n_hidden,\n",
    "                                        'afunction':tdlf.selu01},\n",
    "                                        LocClass=BayesianMlp)\n",
    "        p_y = p_y_model(inputs)\n",
    "        fit_loss = GaussianNegLogLikelihood(p_y)\n",
    "        reg_loss = GaussianKL(p_y.loc.weights,\n",
    "                              tf.distributions.Normal(loc=0.0,\n",
    "                                                 scale=1000.0)).value\n",
    "    loss = fit_loss.value + (1.0/dataset.train.n_samples)*reg_loss\n",
    "\n",
    "\n",
    "py_test = p_y_model.mc_evaluate(n_particles=1000, name='mc_test')"
   ]
  },
  {
   "cell_type": "code",
   "execution_count": 6,
   "metadata": {},
   "outputs": [],
   "source": [
    "# ---------- ignore ------- #\n",
    "monitor = monitoring.TrainingMonitorManager(\n",
    "    log_folder='tmp/',\n",
    "    tf_graph=sess.graph)\n"
   ]
  },
  {
   "cell_type": "code",
   "execution_count": 7,
   "metadata": {},
   "outputs": [],
   "source": [
    "optimizer = tf.train.AdamOptimizer(0.02).minimize(loss)\n",
    "    \n",
    "monitor = monitoring.TrainingMonitorManager(\n",
    "    log_folder='tmp/',\n",
    "    tf_graph=sess.graph)\n",
    "\n",
    "monitor.train.add_monitor(monitoring.OpMonitor(loss,\n",
    "                                               name=\"train/loss\"))\n",
    "#monitor.train.add_monitor(monitoring.OpMonitor(tf.reduce_mean(p_y.scale),\n",
    "#                                               name=\"train/mean_y_scale\"))\n",
    "\n",
    "#monitor.train.add_monitor(monitoring.OpMonitor(tf.reduce_max(p_y.y),\n",
    "#                                               name=\"train/max_y\"))\n",
    "#monitor.train.add_monitor(monitoring.OpMonitor(tf.reduce_max(p_y.loc.layers[0].z_distribution.scale),\n",
    "#                                               name=\"train/max_y_layer0\"))\n",
    "#monitor.train.add_monitor(monitoring.OpMonitor(tf.reduce_max(p_y.loc.layers[1].y_distribution.scale),\n",
    "#                                               name=\"train/max_y_layer1\"))\n",
    "\n",
    "monitor.train.add_monitor(monitoring.OpMonitor(tf.reduce_max(reg_scale.p.scale),\n",
    "                                               name=\"weights/max_scale\"))\n",
    "#monitor.train.add_monitor(monitoring.OpMonitor(tf.reduce_min(reg_loss.p.scale),\n",
    "#                                               name=\"weights/min_scale\"))\n",
    "\n",
    "optimizer = OptimizationManager(session=sess,\n",
    "                                step_op=optimizer,\n",
    "                                monitor_manager=monitor,\n",
    "                                n_logging=100)"
   ]
  },
  {
   "cell_type": "markdown",
   "metadata": {},
   "source": [
    "### 3. Train"
   ]
  },
  {
   "cell_type": "code",
   "execution_count": 8,
   "metadata": {},
   "outputs": [],
   "source": [
    "def feed_train():\n",
    "    feed_dict={p_y.inputs: np.expand_dims(dataset.train.x, 1),\n",
    "           fit_loss.labels: np.expand_dims(dataset.train.y, 1)}\n",
    "    return feed_dict"
   ]
  },
  {
   "cell_type": "code",
   "execution_count": 9,
   "metadata": {},
   "outputs": [],
   "source": [
    "tf.global_variables_initializer().run()"
   ]
  },
  {
   "cell_type": "code",
   "execution_count": 10,
   "metadata": {},
   "outputs": [
    {
     "name": "stdout",
     "output_type": "stream",
     "text": [
      "100 | [('train/loss', -0.044696199595928215), ('weights/max_scale', 0.28260925993323327)] | []\n",
      "200 | [('train/loss', -0.8039788722991943), ('weights/max_scale', 0.5916537255048752)] | []\n",
      "300 | [('train/loss', -0.9439771223068237), ('weights/max_scale', 0.894764874577522)] | []\n",
      "400 | [('train/loss', -0.9536813414096832), ('weights/max_scale', 1.1207537007331854)] | []\n",
      "500 | [('train/loss', -0.9863668406009674), ('weights/max_scale', 1.1442107474803922)] | []\n",
      "600 | [('train/loss', -1.002307748198508), ('weights/max_scale', 0.9127936607599257)] | []\n",
      "700 | [('train/loss', -0.9827292743325222), ('weights/max_scale', 0.873555632829666)] | []\n",
      "800 | [('train/loss', -1.0429400357604022), ('weights/max_scale', 0.8886937683820723)] | []\n",
      "900 | [('train/loss', -0.9344572758674619), ('weights/max_scale', 0.742170916199684)] | []\n",
      "1000 | [('train/loss', -1.0571228751540187), ('weights/max_scale', 0.8913551974296569)] | []\n",
      "1100 | [('train/loss', -1.0808320641517637), ('weights/max_scale', 1.1787368750572205)] | []\n",
      "1200 | [('train/loss', -1.1111139154434193), ('weights/max_scale', 1.294992215633392)] | []\n",
      "1300 | [('train/loss', -1.1037422522902498), ('weights/max_scale', 1.4868900406360623)] | []\n",
      "1400 | [('train/loss', -1.005242217481138), ('weights/max_scale', 1.7040004420280455)] | []\n",
      "1500 | [('train/loss', -1.1896283447742468), ('weights/max_scale', 1.805213174819946)] | []\n",
      "1600 | [('train/loss', -1.1182785242795956), ('weights/max_scale', 2.0608113598823543)] | []\n",
      "1700 | [('train/loss', -1.1513929599523558), ('weights/max_scale', 2.1903610539436325)] | []\n",
      "1800 | [('train/loss', -1.1530792129039786), ('weights/max_scale', 2.2176712250709505)] | []\n",
      "1900 | [('train/loss', -1.079232473373416), ('weights/max_scale', 2.403625159263607)] | []\n",
      "2000 | [('train/loss', -1.1576952964067484), ('weights/max_scale', 2.4382792425155593)] | []\n",
      "2100 | [('train/loss', -1.1654486173391374), ('weights/max_scale', 2.4726877593994105)] | []\n",
      "2200 | [('train/loss', -1.1517891776561768), ('weights/max_scale', 2.344191071987149)] | []\n",
      "2300 | [('train/loss', -1.1449544608593027), ('weights/max_scale', 2.64308753252029)] | []\n",
      "2400 | [('train/loss', -1.2023637759685557), ('weights/max_scale', 2.636034810543056)] | []\n",
      "2500 | [('train/loss', -1.0559938612580346), ('weights/max_scale', 2.824370961189266)] | []\n",
      "2600 | [('train/loss', -1.1939892387390187), ('weights/max_scale', 2.76169707536697)] | []\n",
      "2700 | [('train/loss', -1.24043980479241), ('weights/max_scale', 2.6404402947425805)] | []\n",
      "2800 | [('train/loss', -1.1949802094697999), ('weights/max_scale', 3.165254397392269)] | []\n",
      "2900 | [('train/loss', -1.1834365415573171), ('weights/max_scale', 3.1882597541809043)] | []\n",
      "3000 | [('train/loss', -1.1786759465932886), ('weights/max_scale', 3.3788659262657124)] | []\n",
      "3100 | [('train/loss', -1.1678827181458515), ('weights/max_scale', 3.442171516418453)] | []\n",
      "3200 | [('train/loss', -1.1922631162405062), ('weights/max_scale', 3.476293966770168)] | []\n",
      "3300 | [('train/loss', -1.2016441673040448), ('weights/max_scale', 3.50433260440826)] | []\n",
      "3400 | [('train/loss', -1.2172266781330174), ('weights/max_scale', 3.5645292162895164)] | []\n",
      "3500 | [('train/loss', -1.1828876423835821), ('weights/max_scale', 3.99402536153793)] | []\n",
      "3600 | [('train/loss', -1.2084126102924408), ('weights/max_scale', 3.7501454567909205)] | []\n",
      "3700 | [('train/loss', -1.133253527581698), ('weights/max_scale', 4.1278947591781545)] | []\n",
      "3800 | [('train/loss', -1.2487954616546697), ('weights/max_scale', 3.9555287671089054)] | []\n",
      "3900 | [('train/loss', -1.2101749432087014), ('weights/max_scale', 3.909656777381885)] | []\n",
      "4000 | [('train/loss', -1.1798185002803872), ('weights/max_scale', 4.266958260536186)] | []\n",
      "4100 | [('train/loss', -1.1989057588577339), ('weights/max_scale', 4.317117152214049)] | []\n",
      "4200 | [('train/loss', -1.212351465225227), ('weights/max_scale', 4.241558578014372)] | []\n",
      "4300 | [('train/loss', -1.1952653539180838), ('weights/max_scale', 4.441961231231694)] | []\n",
      "4400 | [('train/loss', -1.1746781349182205), ('weights/max_scale', 4.3889938068389975)] | []\n",
      "4500 | [('train/loss', -1.2121444219350888), ('weights/max_scale', 4.80834233760834)] | []\n",
      "4600 | [('train/loss', -1.2268206131458372), ('weights/max_scale', 5.21202276706696)] | []\n",
      "4700 | [('train/loss', -1.2041752958297813), ('weights/max_scale', 5.149042816162114)] | []\n",
      "4800 | [('train/loss', -1.1877287960052572), ('weights/max_scale', 4.995859131813052)] | []\n",
      "4900 | [('train/loss', -1.2005519306659789), ('weights/max_scale', 4.850253858566283)] | []\n"
     ]
    }
   ],
   "source": [
    "optimizer.run(n_train_steps=5000,\n",
    "              feed_train=feed_train)"
   ]
  },
  {
   "cell_type": "code",
   "execution_count": 11,
   "metadata": {},
   "outputs": [],
   "source": [
    "assert np.isfinite(optimizer.monitor_manager.train['train/loss'].current_value),\\\n",
    "       'training resulted in nan for bayesnet'"
   ]
  },
  {
   "cell_type": "markdown",
   "metadata": {},
   "source": [
    "### 4. Evaluate"
   ]
  },
  {
   "cell_type": "code",
   "execution_count": 15,
   "metadata": {},
   "outputs": [],
   "source": [
    "test_x = np.linspace((1+0.5)*dataset.train.x.min(), \n",
    "                     (1+0.1)*dataset.train.x.max(),\n",
    "                     num=1000)\n",
    "test_x = np.expand_dims(test_x, axis=1)\n",
    "\n",
    "y_mean = list() \n",
    "y_std = list()\n",
    "for i in range(test_x.shape[0]):\n",
    "    m_i, std_i = sess.run([py_test.samples.mean, py_test.samples.stddev],\n",
    "                          feed_dict={py_test.inputs.base:np.expand_dims(test_x[i], axis=1)})\n",
    "    #m_i, std_i = sess.run([py_test.y_distribution.loc, py_test.y_distribution.scale],\n",
    "    #                      feed_dict={py_test.inputs:np.expand_dims(test_x[i], axis=1)})\n",
    "    #m_i = np.mean(m_i, 0)\n",
    "    #std_i = np.mean(std_i, 0)\n",
    "    \n",
    "    y_mean.append(m_i)\n",
    "    y_std.append(std_i)\n",
    "    \n",
    "y_mean = np.concatenate(y_mean, 0)\n",
    "y_std = np.concatenate(y_std, 0)"
   ]
  },
  {
   "cell_type": "code",
   "execution_count": 16,
   "metadata": {},
   "outputs": [
    {
     "data": {
      "text/plain": [
       "<matplotlib.axes._subplots.AxesSubplot at 0x7f5f743b1590>"
      ]
     },
     "execution_count": 16,
     "metadata": {},
     "output_type": "execute_result"
    },
    {
     "data": {
      "image/png": "[encoded data removed]",
      "text/plain": [
       "<matplotlib.figure.Figure at 0x7f5f5b56a510>"
      ]
     },
     "metadata": {},
     "output_type": "display_data"
    }
   ],
   "source": [
    "fig, ax = plt.subplots(1, 1, figsize=(8, 4))\n",
    "test.plot_yp(test_x, y_mean, y_std, ax, dataset.train)"
   ]
  },
  {
   "cell_type": "code",
   "execution_count": 17,
   "metadata": {},
   "outputs": [
    {
     "data": {
      "text/plain": [
       "[<matplotlib.lines.Line2D at 0x7f5f74225390>]"
      ]
     },
     "execution_count": 17,
     "metadata": {},
     "output_type": "execute_result"
    },
    {
     "data": {
      "image/png": "[encoded data removed]",
      "text/plain": [
       "<matplotlib.figure.Figure at 0x7f5f740c2890>"
      ]
     },
     "metadata": {},
     "output_type": "display_data"
    }
   ],
   "source": [
    "fig, ax = plt.subplots(1, 1, figsize=(8, 4))\n",
    "ax.plot(test_x, y_std)"
   ]
  },
  {
   "cell_type": "code",
   "execution_count": null,
   "metadata": {},
   "outputs": [],
   "source": []
  }
 ],
 "metadata": {
  "kernelspec": {
   "display_name": "Python 2",
   "language": "python",
   "name": "python2"
  },
  "language_info": {
   "codemirror_mode": {
    "name": "ipython",
    "version": 2
   },
   "file_extension": ".py",
   "mimetype": "text/x-python",
   "name": "python",
   "nbconvert_exporter": "python",
   "pygments_lexer": "ipython2",
   "version": "2.7.12"
  }
 },
 "nbformat": 4,
 "nbformat_minor": 2
}
