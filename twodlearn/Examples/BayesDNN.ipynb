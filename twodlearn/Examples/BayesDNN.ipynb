{
 "cells": [
  {
   "cell_type": "code",
   "execution_count": 1,
   "metadata": {},
   "outputs": [],
   "source": [
    "import matplotlib.pyplot as plt\n",
    "import twodlearn as tdl\n",
    "import twodlearn.tests.bayesnet_test\n",
    "import tensorflow as tf\n",
    "import tensorflow_probability as tfp\n",
    "import numpy as np"
   ]
  },
  {
   "cell_type": "code",
   "execution_count": 2,
   "metadata": {},
   "outputs": [
    {
     "name": "stdout",
     "output_type": "stream",
     "text": [
      "Data set created, shape:  (1000,)\n"
     ]
    }
   ],
   "source": [
    "dataset = tdl.tests.bayesnet_test.create_heteroscedastic_dataset()"
   ]
  },
  {
   "cell_type": "code",
   "execution_count": 3,
   "metadata": {},
   "outputs": [
    {
     "data": {
      "text/plain": [
       "[<matplotlib.lines.Line2D at 0x7f111eaca940>]"
      ]
     },
     "execution_count": 3,
     "metadata": {},
     "output_type": "execute_result"
    },
    {
     "data": {
      "image/png": "[encoded data removed]",
      "text/plain": [
       "<Figure size 432x288 with 1 Axes>"
      ]
     },
     "metadata": {
      "needs_background": "light"
     },
     "output_type": "display_data"
    }
   ],
   "source": [
    "plt.plot(dataset.train.x, dataset.train.y, 'x')"
   ]
  },
  {
   "cell_type": "code",
   "execution_count": 4,
   "metadata": {},
   "outputs": [],
   "source": [
    "@tdl.core.create_init_docstring\n",
    "class SampleLayer(tdl.core.Layer):\n",
    "    @tdl.core.InputArgument\n",
    "    def input_shape(self, value):\n",
    "        return value\n",
    "    \n",
    "    @tdl.core.InputModel\n",
    "    def distribution(self, value):\n",
    "        if value is None:\n",
    "            raise tdl.core.exceptions.ArgumentNotProvided(self)\n",
    "        return value\n",
    "    \n",
    "    @tdl.core.InputModel\n",
    "    def sample_shape(self, value):\n",
    "        if value is not None:\n",
    "            value = tf.TensorShape(value)\n",
    "        return value\n",
    "    \n",
    "    def call(self, inputs, *args, **kargs):\n",
    "        tdl.core.assert_initialized(\n",
    "            self, 'call', ['distribution', 'sample_shape'])\n",
    "        distribution = (self.distribution(inputs) \n",
    "                        if callable(self.distribution)\n",
    "                        else self.distribution)\n",
    "        if self.sample_shape is not None:\n",
    "            return distribution.sample(sample_shape=sample_shape)\n",
    "        else:\n",
    "            return distribution.sample()\n",
    "    \n",
    "    \n",
    "\n",
    "@tdl.core.create_init_docstring\n",
    "class NormalModel(tdl.core.TdlModelCallable):\n",
    "    @tdl.core.InputArgument\n",
    "    def batch_shape(self, value):\n",
    "        if value is None:\n",
    "            raise tdl.core.exceptions.ArgumentNotProvided(self)\n",
    "        if not isinstance(value, tf.TensorShape):\n",
    "            value = tf.TensorShape(value)\n",
    "        return value\n",
    "        \n",
    "    @tdl.core.SubmodelInit\n",
    "    def loc(self, initializer=None, trainable=True, **kargs):\n",
    "        tdl.core.assert_initialized(self, 'loc', ['batch_shape'])\n",
    "        if initializer is None:\n",
    "            initializer = tf.keras.initializers.zeros()\n",
    "        shape = tf.TensorShape(\n",
    "            (1 if dim is None else dim) \n",
    "            for dim in self.batch_shape.as_list())\n",
    "        return self.add_weight(\n",
    "            name='loc',\n",
    "            initializer=initializer,\n",
    "            shape=shape,\n",
    "            trainable=trainable,\n",
    "            **kargs)\n",
    "    \n",
    "    @tdl.core.SubmodelInit\n",
    "    def scale(self, initializer=None, trainable=True, **kargs):\n",
    "        tdl.core.assert_initialized(self, 'shape', ['batch_shape'])\n",
    "        shape = tf.TensorShape(\n",
    "            (1 if dim is None else dim) \n",
    "            for dim in self.batch_shape.as_list())\n",
    "        if initializer is None:\n",
    "            initializer = tdl.constrained.PositiveVariableExp.init_wrapper(\n",
    "                initializer=tf.keras.initializers.ones(),\n",
    "                trainable=trainable,\n",
    "                tolerance=1e-5,\n",
    "                **kargs)            \n",
    "        return initializer(shape=shape)\n",
    "    \n",
    "    def build(self, input_shape=None):\n",
    "        tdl.core.assert_initialized(self, 'build', ['loc', 'scale'])\n",
    "        self.built = True\n",
    "\n",
    "    def call(self, inputs, *args, **kargs):\n",
    "        if inputs is not None:\n",
    "            inputs = tf.convert_to_tensor(inputs)\n",
    "        loc = (self.loc(inputs) if callable(self.loc)\n",
    "               else self.loc)\n",
    "        scale = (self.scale(inputs) if callable(self.scale)\n",
    "                 else self.scale)\n",
    "        return tfp.distributions.Normal(loc=loc, scale=scale)\n",
    "            \n",
    "        \n",
    "def homoscedastic():\n",
    "    return NormalModel(\n",
    "        batch_shape=[None, 1],\n",
    "        loc=tdl.stacked.StackedLayers(\n",
    "            layers=[tdl.bayesnet.AffineNormalLayer(units=10, tolerance=1e-5),\n",
    "                    tf.keras.activations.softplus,\n",
    "                    tdl.bayesnet.AffineNormalLayer(units=1, tolerance=1e-5)]))\n",
    "\n",
    "def heteroscedastic():\n",
    "    return NormalModel(\n",
    "        batch_shape=[None, 1],\n",
    "        loc=tdl.stacked.StackedLayers(\n",
    "            layers=[tdl.bayesnet.AffineNormalLayer(units=10, tolerance=1e-5),\n",
    "                    tf.keras.layers.Activation(tf.nn.softplus),\n",
    "                    tdl.bayesnet.AffineNormalLayer(units=1, tolerance=1e-5)]),\n",
    "        scale=tdl.stacked.StackedLayers(\n",
    "            layers=[tdl.bayesnet.AffineNormalLayer(units=5, tolerance=1e-5),\n",
    "                    tf.keras.layers.Activation(tf.nn.softplus),\n",
    "                    tdl.bayesnet.AffineNormalLayer(units=1, tolerance=1e-5),\n",
    "                    tf.keras.layers.Activation(tf.exp)])\n",
    "    )\n",
    "\n",
    "\n",
    "#model = homoscedastic()\n",
    "model = heteroscedastic()\n",
    "test_model = SampleLayer(distribution=model)"
   ]
  },
  {
   "cell_type": "code",
   "execution_count": 5,
   "metadata": {},
   "outputs": [],
   "source": [
    "labels = tf.placeholder(tf.float32, (None, 1))\n",
    "inputs = tf.placeholder(tf.float32, (None, 1))\n",
    "output = model(inputs)\n",
    "samples = test_model(inputs)\n",
    "\n",
    "# loss\n",
    "kernel_prior = tfp.distributions.Normal(loc=0.0, scale=1000.0)\n",
    "kl = [tfp.distributions.kl_divergence(kernel, kernel_prior)\n",
    "      for kernel in [model.loc.layers[0].kernel,\n",
    "                     model.loc.layers[2].kernel]]\n",
    "try:\n",
    "    kernel_prior = tfp.distributions.Normal(loc=0.0, scale=100.0)\n",
    "    kl.update([tfp.distributions.kl_divergence(kernel, kernel_prior)\n",
    "      for kernel in [model.scale.layers[0].kernel,\n",
    "                     model.scale.layers[2].kernel]])\n",
    "except AttributeError:\n",
    "    pass\n",
    "loss = -tf.reduce_mean(tf.reduce_sum(output.log_prob(labels), -1),\n",
    "                       0) \\\n",
    "       + (1/dataset.train.n_samples)*tf.add_n([tf.reduce_sum(kl_i) for kl_i in kl])\n",
    "\n",
    "\n",
    "optim = tdl.optim.Optimizer(loss=loss, var_list=tdl.core.get_trainable(model),\n",
    "                            log_folder='tmp/',\n",
    "                            learning_rate=0.01)\n"
   ]
  },
  {
   "cell_type": "code",
   "execution_count": 6,
   "metadata": {},
   "outputs": [],
   "source": [
    "tdl.core.initialize_variables(model)"
   ]
  },
  {
   "cell_type": "code",
   "execution_count": 7,
   "metadata": {},
   "outputs": [
    {
     "name": "stdout",
     "output_type": "stream",
     "text": [
      "100 | [('train/loss', 1.6958461928367614)] | []\n",
      "200 | [('train/loss', 1.0952410525083538)] | []\n",
      "300 | [('train/loss', 0.9670818436145777)] | []\n",
      "nan\n",
      "checkpoint created\n",
      "400 | [('train/loss', 0.924586033225059)] | []\n",
      "500 | [('train/loss', 0.8990706348419184)] | []\n",
      "600 | [('train/loss', 0.878691581487655)] | []\n",
      "700 | [('train/loss', 0.8349611884355539)] | []\n",
      "0.19428034820696383\n",
      "checkpoint created\n",
      "800 | [('train/loss', 0.3923992554098365)] | []\n",
      "900 | [('train/loss', -0.28557159170508434)] | []\n",
      "1000 | [('train/loss', -0.4863526956737046)] | []\n",
      "1100 | [('train/loss', -0.6874340188503268)] | []\n",
      "1200 | [('train/loss', -0.7055981469154361)] | []\n",
      "0.3254402669564967\n",
      "checkpoint created\n",
      "1300 | [('train/loss', -0.7473067647218707)] | []\n",
      "1400 | [('train/loss', -0.7595448642969135)] | []\n",
      "1500 | [('train/loss', -0.7683541953563693)] | []\n",
      "1600 | [('train/loss', -0.7747479844093326)] | []\n",
      "0.016714501508115365\n",
      "checkpoint created\n",
      "1700 | [('train/loss', -0.7805963212251666)] | []\n",
      "1800 | [('train/loss', -0.7859966462850574)] | []\n",
      "1900 | [('train/loss', -0.7885768729448321)] | []\n",
      "saving weights in tmp/optimizer\n"
     ]
    }
   ],
   "source": [
    "optim.run(feed_train=\n",
    "            lambda:{labels: dataset.train.y[..., np.newaxis],\n",
    "                    inputs: dataset.train.x[..., np.newaxis]},\n",
    "          n_train_steps=2000)"
   ]
  },
  {
   "cell_type": "code",
   "execution_count": null,
   "metadata": {},
   "outputs": [],
   "source": []
  },
  {
   "cell_type": "code",
   "execution_count": 8,
   "metadata": {},
   "outputs": [],
   "source": [
    "session = tf.get_default_session()\n",
    "loc, scale = session.run([output.loc, output.scale], \n",
    "            feed_dict={inputs: dataset.train.x[..., np.newaxis]})\n",
    "\n",
    "test_samples = session.run([samples], \n",
    "            feed_dict={inputs: dataset.train.x[..., np.newaxis]})"
   ]
  },
  {
   "cell_type": "code",
   "execution_count": 9,
   "metadata": {},
   "outputs": [
    {
     "data": {
      "text/plain": [
       "[<matplotlib.lines.Line2D at 0x7f0fe82e1908>]"
      ]
     },
     "execution_count": 9,
     "metadata": {},
     "output_type": "execute_result"
    },
    {
     "data": {
      "image/png": "[encoded data removed]",
      "text/plain": [
       "<Figure size 432x288 with 1 Axes>"
      ]
     },
     "metadata": {
      "needs_background": "light"
     },
     "output_type": "display_data"
    }
   ],
   "source": [
    "plt.plot(dataset.train.x, loc)\n",
    "plt.plot(dataset.train.x, loc+scale, 'r')\n",
    "plt.plot(dataset.train.x, loc-scale, 'r')\n",
    "plt.plot(dataset.train.x, dataset.train.y, '+k')"
   ]
  },
  {
   "cell_type": "code",
   "execution_count": 10,
   "metadata": {},
   "outputs": [
    {
     "data": {
      "text/plain": [
       "[<matplotlib.lines.Line2D at 0x7f0ff029bac8>]"
      ]
     },
     "execution_count": 10,
     "metadata": {},
     "output_type": "execute_result"
    },
    {
     "data": {
      "image/png": "[encoded data removed]",
      "text/plain": [
       "<Figure size 432x288 with 1 Axes>"
      ]
     },
     "metadata": {
      "needs_background": "light"
     },
     "output_type": "display_data"
    }
   ],
   "source": [
    "plt.plot(dataset.train.x, dataset.train.y, '+r')\n",
    "plt.plot(dataset.train.x, np.squeeze(test_samples), '+k')"
   ]
  },
  {
   "cell_type": "code",
   "execution_count": 11,
   "metadata": {},
   "outputs": [],
   "source": [
    "loss_value = loss.eval(\n",
    "    feed_dict={labels: dataset.train.y[..., np.newaxis],\n",
    "               inputs: dataset.train.x[..., np.newaxis]})\n",
    "assert loss_value < -0.7, 'loss value higher than normal'\n",
    "assert loss_value > -0.9, 'loss value lower than normal'"
   ]
  },
  {
   "cell_type": "code",
   "execution_count": null,
   "metadata": {},
   "outputs": [],
   "source": []
  }
 ],
 "metadata": {
  "kernelspec": {
   "display_name": "Python 3",
   "language": "python",
   "name": "python3"
  },
  "language_info": {
   "codemirror_mode": {
    "name": "ipython",
    "version": 3
   },
   "file_extension": ".py",
   "mimetype": "text/x-python",
   "name": "python",
   "nbconvert_exporter": "python",
   "pygments_lexer": "ipython3",
   "version": "3.5.2"
  }
 },
 "nbformat": 4,
 "nbformat_minor": 2
}
