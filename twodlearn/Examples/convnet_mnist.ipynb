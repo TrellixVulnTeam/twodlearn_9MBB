{
 "cells": [
  {
   "cell_type": "markdown",
   "metadata": {},
   "source": [
    "# ConvNet on MNIST"
   ]
  },
  {
   "cell_type": "code",
   "execution_count": 1,
   "metadata": {},
   "outputs": [],
   "source": [
    "from __future__ import absolute_import\n",
    "from __future__ import division\n",
    "from __future__ import print_function\n",
    "\n",
    "import tensorflow as tf\n",
    "import numpy as np\n",
    "\n",
    "import sys\n",
    "from twodlearn.feedforward import *"
   ]
  },
  {
   "cell_type": "markdown",
   "metadata": {},
   "source": [
    "## 1. Load MNIST"
   ]
  },
  {
   "cell_type": "code",
   "execution_count": 2,
   "metadata": {},
   "outputs": [
    {
     "name": "stdout",
     "output_type": "stream",
     "text": [
      "File already downloaded.\n",
      "File already downloaded.\n",
      "File already downloaded.\n",
      "File already downloaded.\n",
      "loading MNIST_data/train-images-idx3-ubyte.gz\n",
      "loading MNIST_data/t10k-images-idx3-ubyte.gz\n"
     ]
    }
   ],
   "source": [
    "#from tensorflow.examples.tutorials.mnist import input_data\n",
    "#mnist = input_data.read_data_sets(\"MNIST_data/\", one_hot=True)\n",
    "from twodlearn.datasets.mnist import MnistDataset\n",
    "mnist = MnistDataset('MNIST_data')\n"
   ]
  },
  {
   "cell_type": "code",
   "execution_count": 3,
   "metadata": {},
   "outputs": [],
   "source": [
    "batch_X, batch_y = mnist.train.next_batch(100)"
   ]
  },
  {
   "cell_type": "code",
   "execution_count": 4,
   "metadata": {},
   "outputs": [
    {
     "name": "stdout",
     "output_type": "stream",
     "text": [
      "(100, 28, 28, 1)\n",
      "(100, 10)\n"
     ]
    }
   ],
   "source": [
    "print(np.reshape(batch_X, [-1,28,28,1]).shape)\n",
    "print(batch_y.shape)\n"
   ]
  },
  {
   "cell_type": "markdown",
   "metadata": {},
   "source": [
    "## 2. Model definition"
   ]
  },
  {
   "cell_type": "code",
   "execution_count": 5,
   "metadata": {},
   "outputs": [],
   "source": [
    "sess = tf.InteractiveSession()"
   ]
  },
  {
   "cell_type": "code",
   "execution_count": 6,
   "metadata": {},
   "outputs": [],
   "source": [
    "input_shape= [28, 28, 1]\n",
    "n_outputs=  batch_y.shape[1]\n",
    "\n",
    "n_filters = [32, 64]   \n",
    "filter_size = [[5,5], [5,5]] \n",
    "pool_size =   [[2,2], [2,2]] \n",
    "n_hidden = [1024]\n",
    "\n",
    "batch_size= 100"
   ]
  },
  {
   "cell_type": "code",
   "execution_count": 7,
   "metadata": {},
   "outputs": [],
   "source": [
    "# for dropout\n",
    "drop_prob = tf.placeholder(tf.float32)\n",
    "\n",
    "# Define ConvNet\n",
    "conv_net= AlexNetClassifier(input_shape, n_outputs, \n",
    "                            n_filters, filter_size, \n",
    "                            pool_size, n_hidden, name='ConvNet')\n",
    "\n",
    "# Define train setup\n",
    "train= conv_net.evaluate()\n",
    "train.loss.init()\n",
    "# Optimizer.\n",
    "optimizer = tf.train.AdamOptimizer(1e-3).minimize(tf.convert_to_tensor(train.loss)) #0.001\n",
    "  \n",
    "# Predictions for the training, validation, and test data.\n",
    "train_prediction = tf.convert_to_tensor(train.output.value)"
   ]
  },
  {
   "cell_type": "markdown",
   "metadata": {},
   "source": [
    "## 3. Training"
   ]
  },
  {
   "cell_type": "code",
   "execution_count": 9,
   "metadata": {},
   "outputs": [],
   "source": [
    "def accuracy(predictions, labels):\n",
    "    if n_outputs == 1:\n",
    "        return (100.0 * np.sum(np.greater(predictions, 0.5) == np.greater(labels, 0.5))/ predictions.shape[0])\n",
    "    else:\n",
    "        return (100.0 * np.sum(np.argmax(predictions, 1) == np.argmax(labels, 1))/ predictions.shape[0])"
   ]
  },
  {
   "cell_type": "code",
   "execution_count": 10,
   "metadata": {},
   "outputs": [
    {
     "name": "stdout",
     "output_type": "stream",
     "text": [
      "Initialized\n",
      "0 , train: 0.03  | test: 13.6  | loss: 0.5980055999755859\n",
      "100 , train: 77.24  | test: 91.2  | loss: 14.363180601894856\n",
      "200 , train: 94.27  | test: 93.4  | loss: 0.19585871433839203\n",
      "300 , train: 94.95  | test: 94.6  | loss: 0.18131906697526573\n",
      "400 , train: 95.49  | test: 94.7  | loss: 0.15943107897415756\n",
      "500 , train: 95.96  | test: 97.9  | loss: 0.14832110987976194\n",
      "600 , train: 97.8  | test: 97.4  | loss: 0.08166376390960067\n",
      "700 , train: 98.04  | test: 99.0  | loss: 0.07183787561021746\n",
      "800 , train: 97.93  | test: 99.2  | loss: 0.06840142113156616\n",
      "900 , train: 97.86  | test: 97.6  | loss: 0.07480014238040894\n",
      "1000 , train: 97.93  | test: 98.1  | loss: 0.07748781023081391\n",
      "1100 , train: 98.17  | test: 97.7  | loss: 0.06691675838083029\n",
      "1200 , train: 98.95  | test: 98.0  | loss: 0.034301836416125296\n",
      "1300 , train: 98.72  | test: 98.4  | loss: 0.045355648780241606\n",
      "1400 , train: 98.73  | test: 97.7  | loss: 0.04469216229394078\n",
      "1500 , train: 98.39  | test: 98.0  | loss: 0.057574493903666736\n",
      "1600 , train: 98.61  | test: 97.9  | loss: 0.047861417513340714\n",
      "1700 , train: 98.8  | test: 96.9  | loss: 0.04150637541897595\n",
      "1800 , train: 99.07  | test: 97.7  | loss: 0.033774924986064436\n",
      "1900 , train: 99.09  | test: 97.6  | loss: 0.032138363518752155\n"
     ]
    }
   ],
   "source": [
    "num_steps = 2000\n",
    "summary_freq= 100\n",
    "n_test_logg= 10 # number of evaluations on test dataset (for logging information)\n",
    "\n",
    "tf.global_variables_initializer().run()\n",
    "print('Initialized')\n",
    "\n",
    "mean_loss= 0\n",
    "train_accuracy= 0\n",
    "for step in range(num_steps):\n",
    "    batch_X, batch_y= mnist.train.next_batch(batch_size)\n",
    "    batch_X= np.reshape(batch_X, [-1,28,28,1])\n",
    "    \n",
    "    \n",
    "    feed_dict = {train.inputs : batch_X, train.loss.labels : batch_y, drop_prob:1.0}\n",
    "    \n",
    "    _, l, train_pred = sess.run([optimizer, tf.convert_to_tensor(train.loss), train_prediction],feed_dict=feed_dict)\n",
    "    \n",
    "    train_accuracy += accuracy(train_pred, batch_y)\n",
    "    mean_loss += l    \n",
    "    \n",
    "    if step%summary_freq == 0:\n",
    "        # train\n",
    "        train_accuracy= train_accuracy/summary_freq\n",
    "        \n",
    "        # test\n",
    "        test_accuracy= 0\n",
    "        for i in range(n_test_logg):\n",
    "            batch_X_test, batch_y_test= mnist.test.next_batch(batch_size) \n",
    "            batch_X_test= np.reshape(batch_X_test, [-1,28,28,1])\n",
    "\n",
    "            pred = train_prediction.eval(feed_dict={train.inputs: batch_X_test, drop_prob: 1.0})\n",
    "            \n",
    "            test_accuracy += accuracy(pred, batch_y_test)\n",
    "        test_accuracy= test_accuracy/n_test_logg\n",
    "            \n",
    "        print(step, ', train:',train_accuracy,' | test:', test_accuracy, ' | loss:', mean_loss/summary_freq)\n",
    "        mean_loss= 0\n",
    "        train_accuracy= 0"
   ]
  },
  {
   "cell_type": "code",
   "execution_count": 11,
   "metadata": {},
   "outputs": [],
   "source": [
    "assert (train_accuracy>98) and ((test_accuracy>97)), \"Accurary of convnet test lower than expected\""
   ]
  },
  {
   "cell_type": "code",
   "execution_count": null,
   "metadata": {},
   "outputs": [],
   "source": []
  }
 ],
 "metadata": {
  "anaconda-cloud": {},
  "kernelspec": {
   "display_name": "Python 2",
   "language": "python",
   "name": "python2"
  },
  "language_info": {
   "codemirror_mode": {
    "name": "ipython",
    "version": 2
   },
   "file_extension": ".py",
   "mimetype": "text/x-python",
   "name": "python",
   "nbconvert_exporter": "python",
   "pygments_lexer": "ipython2",
   "version": "2.7.12"
  }
 },
 "nbformat": 4,
 "nbformat_minor": 2
}
