{
 "cells": [
  {
   "cell_type": "markdown",
   "metadata": {},
   "source": [
    "# Test for a simple regression problem"
   ]
  },
  {
   "cell_type": "code",
   "execution_count": 1,
   "metadata": {},
   "outputs": [],
   "source": [
    "from __future__ import absolute_import\n",
    "from __future__ import division\n",
    "from __future__ import print_function\n",
    "\n",
    "import tensorflow as tf\n",
    "import numpy as np\n",
    "\n",
    "import sys\n",
    "from twodlearn.feedforward import *\n",
    "from twodlearn.datasets.Batch_generator import *"
   ]
  },
  {
   "cell_type": "markdown",
   "metadata": {},
   "source": [
    "## 1. Create Dataset"
   ]
  },
  {
   "cell_type": "code",
   "execution_count": 2,
   "metadata": {},
   "outputs": [
    {
     "name": "stdout",
     "output_type": "stream",
     "text": [
      "(100, 1)\n",
      "(100, 1)\n"
     ]
    }
   ],
   "source": [
    "train_X= np.expand_dims(np.linspace(0,10,100), -1)\n",
    "train_y= np.sin(train_X)\n",
    "\n",
    "test_X= np.expand_dims(np.linspace(0,10,1000), -1)\n",
    "test_y= np.sin(test_X)\n",
    "\n",
    "n_features= 1\n",
    "\n",
    "print(train_X.shape)\n",
    "print(train_y.shape)"
   ]
  },
  {
   "cell_type": "markdown",
   "metadata": {},
   "source": [
    "#### normalization"
   ]
  },
  {
   "cell_type": "code",
   "execution_count": 3,
   "metadata": {},
   "outputs": [
    {
     "name": "stdout",
     "output_type": "stream",
     "text": [
      "[1.]\n",
      "[0.99104005]\n"
     ]
    }
   ],
   "source": [
    "std_data= np.std(train_X, 0)\n",
    "mean_data= np.mean(train_X, 0)\n",
    "\n",
    "for i in range(n_features):\n",
    "    train_X[:,i]= (train_X[:,i]-mean_data[i])/std_data[i]\n",
    "    test_X[:,i]= (test_X[:,i]-mean_data[i])/std_data[i]\n",
    "print(np.std(train_X,0))\n",
    "print(np.std(test_X,0))"
   ]
  },
  {
   "cell_type": "markdown",
   "metadata": {},
   "source": [
    "## 2. Batch Generators"
   ]
  },
  {
   "cell_type": "code",
   "execution_count": 4,
   "metadata": {},
   "outputs": [],
   "source": [
    "batch_size = train_X.shape[0] #50\n",
    "batch_size_test= test_X.shape[0]"
   ]
  },
  {
   "cell_type": "markdown",
   "metadata": {},
   "source": [
    "## 2. Define the Model"
   ]
  },
  {
   "cell_type": "code",
   "execution_count": 5,
   "metadata": {},
   "outputs": [],
   "source": [
    "sess = tf.InteractiveSession()"
   ]
  },
  {
   "cell_type": "code",
   "execution_count": 6,
   "metadata": {},
   "outputs": [],
   "source": [
    "# Network parameters\n",
    "n_inputs= n_features\n",
    "n_outputs=  1\n",
    "n_hidden = [30]\n",
    "\n",
    "# for dropout\n",
    "drop_prob = tf.placeholder(tf.float32)\n",
    "\n",
    "# Define MLP Net\n",
    "mlp_net= MlpNet( n_inputs, n_outputs, n_hidden, afunction= tf.sigmoid ,name='MlpNet')\n",
    "\n",
    "# Define train setup\n",
    "train= mlp_net.evaluate(keep_prob=drop_prob, name='train')\n",
    "train.loss.init()\n",
    "# Define test setup\n",
    "test= mlp_net.evaluate(keep_prob=drop_prob, name='test')\n",
    "\n",
    "\n",
    "# Optimizer.\n",
    "optimizer = tf.train.AdamOptimizer(0.01).minimize(tf.convert_to_tensor(train.loss)) #0.001"
   ]
  },
  {
   "cell_type": "markdown",
   "metadata": {},
   "source": [
    "## 3. Train the model"
   ]
  },
  {
   "cell_type": "code",
   "execution_count": 7,
   "metadata": {},
   "outputs": [
    {
     "name": "stdout",
     "output_type": "stream",
     "text": [
      "Initialized\n",
      "0  | test: 229.3272099595079  | loss: 0.004416625499725341\n",
      "100  | test: 219.88009493613856  | loss: 0.4399086454510689\n",
      "200  | test: 142.53608546423953  | loss: 0.391535239815712\n",
      "300  | test: 60.09876310113784  | loss: 0.18796952173113823\n",
      "400  | test: 17.423527418744612  | loss: 0.08554649874567985\n",
      "500  | test: 4.343415745295052  | loss: 0.020359925637021662\n",
      "600  | test: 1.2728101466855124  | loss: 0.00651620636228472\n",
      "700  | test: 0.5214291248270915  | loss: 0.0029438985791057346\n",
      "800  | test: 0.2619068959760906  | loss: 0.0019398235972039402\n",
      "900  | test: 0.15916916041905516  | loss: 0.0015705199155490845\n",
      "1000  | test: 0.1130193711430531  | loss: 0.0014110591157805174\n",
      "1100  | test: 0.08859525159134234  | loss: 0.0013306317082606256\n",
      "1200  | test: 0.07417282667878938  | loss: 0.0012862992996815592\n",
      "1300  | test: 0.06430691871290749  | loss: 0.0012390475755091758\n",
      "1400  | test: 0.057014889975343916  | loss: 0.0012253544584382326\n",
      "1500  | test: 0.05613928717046677  | loss: 0.0012035191874019801\n",
      "1600  | test: 0.046460965883459146  | loss: 0.0011592039896640926\n",
      "1700  | test: 0.05125068008778536  | loss: 0.001178643493913114\n",
      "1800  | test: 0.03898926300302298  | loss: 0.0011172893445473165\n",
      "1900  | test: 0.035887214288540706  | loss: 0.0010984467540401965\n",
      "2000  | test: 0.03324032783308699  | loss: 0.0011379688617307693\n",
      "2100  | test: 0.030783478691647524  | loss: 0.0010665927221998573\n",
      "2200  | test: 0.02855495005352066  | loss: 0.0010520185204222798\n",
      "2300  | test: 0.026737136290211072  | loss: 0.001086718018632382\n",
      "2400  | test: 0.02476685812248075  | loss: 0.0010254550084937363\n",
      "2500  | test: 0.029177762491102696  | loss: 0.0010604167904239147\n",
      "2600  | test: 0.021629556788069465  | loss: 0.0010137948521878571\n",
      "2700  | test: 0.020240840105495674  | loss: 0.0009908224060200155\n",
      "2800  | test: 0.2551449088341462  | loss: 0.0009858826553681866\n",
      "2900  | test: 0.01785526680633622  | loss: 0.0010470499884104355\n",
      "3000  | test: 0.01679830612864624  | loss: 0.0009614460373995826\n",
      "3100  | test: 0.015824733353910797  | loss: 0.0009525386150926352\n",
      "3200  | test: 0.05094870096102989  | loss: 0.0010108953824965283\n",
      "3300  | test: 0.014125082100195537  | loss: 0.0009464870701776818\n",
      "3400  | test: 0.013369300984330187  | loss: 0.0009281157719669864\n",
      "3500  | test: 0.012668325109239063  | loss: 0.0009205345861846581\n",
      "3600  | test: 0.012383527688973365  | loss: 0.0009695076156640425\n",
      "3700  | test: 0.011431521078545172  | loss: 0.0009063713758951053\n",
      "3800  | test: 0.3051187923754552  | loss: 0.0009113300964236259\n",
      "3900  | test: 0.01037836291149576  | loss: 0.0009372567204991355\n",
      "4000  | test: 0.009894583633766704  | loss: 0.0008869049610802904\n",
      "4100  | test: 0.010311367828878643  | loss: 0.000942511833854951\n",
      "4200  | test: 0.00905340464996093  | loss: 0.0008765824144938961\n",
      "4300  | test: 0.008671876295091911  | loss: 0.0008694909315090627\n",
      "4400  | test: 0.00909377412942411  | loss: 0.0009173426259076223\n",
      "4500  | test: 0.007997969442256263  | loss: 0.0008590883354190737\n",
      "4600  | test: 0.008192410429133235  | loss: 0.0008536464802455157\n",
      "4700  | test: 0.0074270786309623546  | loss: 0.0009094380342867226\n",
      "4800  | test: 0.007161545859724856  | loss: 0.00084410525043495\n",
      "4900  | test: 0.12854240906694384  | loss: 0.0008815778273856267\n"
     ]
    }
   ],
   "source": [
    "num_steps = 5000\n",
    "n_logging = 100\n",
    "n_test_logg = 10\n",
    "\n",
    "tf.global_variables_initializer().run()\n",
    "print('Initialized')\n",
    "\n",
    "mean_loss= 0\n",
    "train_accuracy= 0\n",
    "for step in range(num_steps):\n",
    "    batch_X= train_X\n",
    "    batch_y= train_y\n",
    "    \n",
    "        \n",
    "    feed_dict = {train.inputs : batch_X, train.loss.labels : batch_y, drop_prob:1.0}\n",
    "    ops = [optimizer, tf.convert_to_tensor(train.loss), \n",
    "           tf.convert_to_tensor(train.output)]\n",
    "    _, l, train_pred = sess.run(ops,feed_dict=feed_dict)\n",
    "    mean_loss += l    \n",
    "    \n",
    "    if step%n_logging == 0:                \n",
    "        # test\n",
    "        pred = test.output.value.eval(feed_dict={test.inputs: test_X, drop_prob: 1.0})\n",
    "            \n",
    "        test_error = np.sum( np.power(pred-test_y, 2.0) )/2.0\n",
    "        \n",
    "        # print            \n",
    "        print(step, ' | test:', test_error, ' | loss:', mean_loss/n_logging)\n",
    "        mean_loss= 0\n",
    "mean_loss = mean_loss/n_logging"
   ]
  },
  {
   "cell_type": "code",
   "execution_count": 8,
   "metadata": {},
   "outputs": [
    {
     "data": {
      "text/plain": [
       "[<matplotlib.lines.Line2D at 0x7f09e0e85790>]"
      ]
     },
     "execution_count": 8,
     "metadata": {},
     "output_type": "execute_result"
    },
    {
     "data": {
      "image/png": "[encoded data removed]",
      "text/plain": [
       "<matplotlib.figure.Figure at 0x7f0a244daf90>"
      ]
     },
     "metadata": {},
     "output_type": "display_data"
    }
   ],
   "source": [
    "%matplotlib inline\n",
    "import matplotlib.pyplot as plt\n",
    "\n",
    "pred = train.output.value.eval(feed_dict={train.inputs: train_X, drop_prob: 1.0})\n",
    "\n",
    "plt.plot(np.arange(pred.shape[0]), pred, 'b')\n",
    "plt.plot(np.arange(pred.shape[0]), pred, 'ro')\n",
    "\n",
    "plt.plot(np.arange(train_y.shape[0]), train_y)\n"
   ]
  },
  {
   "cell_type": "code",
   "execution_count": 9,
   "metadata": {},
   "outputs": [
    {
     "data": {
      "text/plain": [
       "[<matplotlib.lines.Line2D at 0x7f09db3c1dd0>]"
      ]
     },
     "execution_count": 9,
     "metadata": {},
     "output_type": "execute_result"
    },
    {
     "data": {
      "image/png": "[encoded data removed]",
      "text/plain": [
       "<matplotlib.figure.Figure at 0x7f0a436c8610>"
      ]
     },
     "metadata": {},
     "output_type": "display_data"
    }
   ],
   "source": [
    "pred = test.output.value.eval(feed_dict={test.inputs: test_X, drop_prob: 1.0})\n",
    "\n",
    "plt.plot(np.arange(pred.shape[0]), pred, 'b')\n",
    "plt.plot(np.arange(pred.shape[0]), pred, 'ro')\n",
    "plt.plot(np.arange(test_y.shape[0]), test_y)\n"
   ]
  },
  {
   "cell_type": "code",
   "execution_count": 10,
   "metadata": {},
   "outputs": [],
   "source": [
    "assert (test_error<0.5) and ((mean_loss<0.001)), \"Error of mlp higher than expected\"\n",
    "assert (sorted([w.name for w in tdl.get_trainable(mlp_net)]) ==\n",
    "        sorted(['MlpNet/layers/DenseLayer/weights/W:0',\n",
    "                'MlpNet/layers/AffineLayer/weights/W:0', \n",
    "                'MlpNet/layers/AffineLayer/bias/b:0',\n",
    "                'MlpNet/layers/DenseLayer/bias/b:0'])), 'Naming convention incorrect'"
   ]
  },
  {
   "cell_type": "code",
   "execution_count": null,
   "metadata": {},
   "outputs": [],
   "source": []
  }
 ],
 "metadata": {
  "anaconda-cloud": {},
  "kernelspec": {
   "display_name": "Python 2",
   "language": "python",
   "name": "python2"
  },
  "language_info": {
   "codemirror_mode": {
    "name": "ipython",
    "version": 2
   },
   "file_extension": ".py",
   "mimetype": "text/x-python",
   "name": "python",
   "nbconvert_exporter": "python",
   "pygments_lexer": "ipython2",
   "version": "2.7.12"
  }
 },
 "nbformat": 4,
 "nbformat_minor": 2
}
