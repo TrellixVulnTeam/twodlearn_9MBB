{
 "cells": [
  {
   "cell_type": "markdown",
   "metadata": {},
   "source": [
    "# Test for a simple regression problem"
   ]
  },
  {
   "cell_type": "code",
   "execution_count": 1,
   "metadata": {},
   "outputs": [],
   "source": [
    "from __future__ import absolute_import\n",
    "from __future__ import division\n",
    "from __future__ import print_function\n",
    "\n",
    "import tensorflow as tf\n",
    "import numpy as np\n",
    "\n",
    "import sys\n",
    "import twodlearn as tdl\n",
    "from twodlearn.datasets.Batch_generator import *"
   ]
  },
  {
   "cell_type": "markdown",
   "metadata": {},
   "source": [
    "## 1. Create Dataset"
   ]
  },
  {
   "cell_type": "code",
   "execution_count": 2,
   "metadata": {},
   "outputs": [
    {
     "name": "stdout",
     "output_type": "stream",
     "text": [
      "(100, 1)\n",
      "(100, 1)\n"
     ]
    }
   ],
   "source": [
    "train_X= np.expand_dims(np.linspace(0,10,100), -1)\n",
    "train_y= np.sin(train_X)\n",
    "\n",
    "test_X= np.expand_dims(np.linspace(0,10,1000), -1)\n",
    "test_y= np.sin(test_X)\n",
    "\n",
    "n_features= 1\n",
    "\n",
    "print(train_X.shape)\n",
    "print(train_y.shape)"
   ]
  },
  {
   "cell_type": "markdown",
   "metadata": {},
   "source": [
    "#### normalization"
   ]
  },
  {
   "cell_type": "code",
   "execution_count": 3,
   "metadata": {},
   "outputs": [
    {
     "name": "stdout",
     "output_type": "stream",
     "text": [
      "[1.]\n",
      "[0.99104005]\n"
     ]
    }
   ],
   "source": [
    "std_data= np.std(train_X, 0)\n",
    "mean_data= np.mean(train_X, 0)\n",
    "\n",
    "for i in range(n_features):\n",
    "    train_X[:,i]= (train_X[:,i]-mean_data[i])/std_data[i]\n",
    "    test_X[:,i]= (test_X[:,i]-mean_data[i])/std_data[i]\n",
    "print(np.std(train_X,0))\n",
    "print(np.std(test_X,0))"
   ]
  },
  {
   "cell_type": "markdown",
   "metadata": {},
   "source": [
    "## 2. Batch Generators"
   ]
  },
  {
   "cell_type": "code",
   "execution_count": 4,
   "metadata": {},
   "outputs": [],
   "source": [
    "batch_size = train_X.shape[0] #50\n",
    "batch_size_test= test_X.shape[0]"
   ]
  },
  {
   "cell_type": "markdown",
   "metadata": {},
   "source": [
    "## 2. Define the Model"
   ]
  },
  {
   "cell_type": "code",
   "execution_count": 5,
   "metadata": {},
   "outputs": [],
   "source": [
    "sess = tf.InteractiveSession()"
   ]
  },
  {
   "cell_type": "code",
   "execution_count": 6,
   "metadata": {},
   "outputs": [],
   "source": [
    "# Network parameters\n",
    "n_inputs= n_features\n",
    "\n",
    "# for dropout\n",
    "drop_prob = tf.placeholder(dtype=tf.float32)\n",
    "\n",
    "# Define MLP Net\n",
    "mlp_net= tdl.stacked.StackedLayers( \n",
    "    layers=[tdl.dense.AffineLayer(units=30),\n",
    "            tf.keras.layers.Activation(tf.sigmoid),\n",
    "            lambda x: tf.nn.dropout(x, keep_prob=1-drop_prob),\n",
    "            tdl.dense.AffineLayer(units=1)])\n",
    "\n",
    "\n",
    "# Define train setup\n",
    "inputs = tf.placeholder(shape=(None, n_features), \n",
    "                        dtype=tf.float32)\n",
    "outputs = mlp_net(inputs)\n",
    "train= tdl.core.SimpleNamespace(\n",
    "    inputs=inputs, \n",
    "    outputs=tf.convert_to_tensor(outputs),\n",
    "    loss=tdl.losses.L2Loss(outputs))\n",
    "# Define test setup\n",
    "test=tdl.core.SimpleNamespace(\n",
    "    outputs=tf.convert_to_tensor(mlp_net(inputs)),\n",
    "    inputs=inputs)\n",
    "\n",
    "\n",
    "# Optimizer.\n",
    "optimizer = tf.train.AdamOptimizer(0.01).minimize(tf.convert_to_tensor(train.loss)) #0.001"
   ]
  },
  {
   "cell_type": "markdown",
   "metadata": {},
   "source": [
    "## 3. Train the model"
   ]
  },
  {
   "cell_type": "code",
   "execution_count": null,
   "metadata": {},
   "outputs": [],
   "source": []
  },
  {
   "cell_type": "code",
   "execution_count": 7,
   "metadata": {},
   "outputs": [
    {
     "name": "stdout",
     "output_type": "stream",
     "text": [
      "Initialized\n",
      "0  | test: 246.2093090558031  | loss: 0.005947428941726685\n",
      "100  | test: 219.6865858843763  | loss: 0.4428731468319893\n",
      "200  | test: 112.09909706073499  | loss: 0.372265647649765\n",
      "300  | test: 48.20053209190576  | loss: 0.1472421956807375\n",
      "400  | test: 28.662019017241505  | loss: 0.07948238089680672\n",
      "500  | test: 20.129014761206378  | loss: 0.05185286171734333\n",
      "600  | test: 11.078645423670949  | loss: 0.03413072001188994\n",
      "700  | test: 3.6232035736120776  | loss: 0.01524580042809248\n",
      "800  | test: 1.1367405281045257  | loss: 0.004737295375671238\n",
      "900  | test: 0.5004120705198278  | loss: 0.0017129029612988234\n",
      "1000  | test: 0.2726959797551356  | loss: 0.000827334148925729\n",
      "1100  | test: 0.16895743035034247  | loss: 0.00047384879755554723\n",
      "1200  | test: 0.113658527538886  | loss: 0.00030230116681195796\n",
      "1300  | test: 0.08019556120785833  | loss: 0.00020608294173143804\n",
      "1400  | test: 0.05824796117105853  | loss: 0.00014610615296987818\n",
      "1500  | test: 0.04323391013958667  | loss: 0.00010633556878019589\n",
      "1600  | test: 0.03271450075725345  | loss: 7.906920181994792e-05\n",
      "1700  | test: 0.025199573535946915  | loss: 5.996286625304492e-05\n",
      "1800  | test: 0.01971368550596792  | loss: 4.630326046026312e-05\n",
      "1900  | test: 0.015628270809581412  | loss: 3.636600864410866e-05\n",
      "2000  | test: 0.012504216660858308  | loss: 2.8908112508361228e-05\n",
      "2100  | test: 0.010200231055239966  | loss: 2.313012104423251e-05\n",
      "2200  | test: 0.008128832672396993  | loss: 1.873345452622743e-05\n",
      "2300  | test: 0.006593210670975527  | loss: 1.5220080622384557e-05\n",
      "2400  | test: 0.005343682053474246  | loss: 1.226637749823567e-05\n",
      "2500  | test: 0.004334680643332766  | loss: 1.0167712052862044e-05\n",
      "2600  | test: 0.0035848276676869154  | loss: 8.4437025770967e-06\n",
      "2700  | test: 0.0029011566383955675  | loss: 6.735132083122153e-06\n",
      "2800  | test: 0.0024090616595767974  | loss: 6.114799189163022e-06\n",
      "2900  | test: 0.005086207991743117  | loss: 4.830030707125843e-06\n",
      "3000  | test: 0.0017325102337257883  | loss: 4.9173436900673554e-06\n",
      "3100  | test: 0.0017879121661849198  | loss: 5.429677032680047e-06\n",
      "3200  | test: 0.0016683737995405322  | loss: 3.189157687302213e-06\n",
      "3300  | test: 0.0012388151394238664  | loss: 7.100627583440655e-06\n",
      "3400  | test: 0.0014616962500971597  | loss: 1.1832138427507744e-05\n",
      "3500  | test: 0.002554171914420418  | loss: 2.6424288921589323e-06\n",
      "3600  | test: 0.0010489970491133526  | loss: 1.785512706874215e-05\n",
      "3700  | test: 0.004836657489391804  | loss: 2.321160970041092e-05\n",
      "3800  | test: 0.000991539172154575  | loss: 4.057839294091536e-06\n",
      "3900  | test: 0.0019646286608888284  | loss: 2.949190534536683e-05\n",
      "4000  | test: 0.0009554374849141123  | loss: 4.814685687506426e-06\n",
      "4100  | test: 0.0009478834673116996  | loss: 2.1558842922786427e-06\n",
      "4200  | test: 0.0009816351248557757  | loss: 4.531587453584507e-05\n",
      "4300  | test: 0.0009186526642933693  | loss: 2.1114404967192967e-06\n",
      "4400  | test: 0.0038329630558664105  | loss: 2.178044899210363e-06\n",
      "4500  | test: 0.0009037719368921837  | loss: 3.870130351060652e-05\n",
      "4600  | test: 0.0008920358530751264  | loss: 2.041380682840099e-06\n",
      "4700  | test: 0.0037930333356797326  | loss: 4.2662206340082776e-05\n",
      "4800  | test: 0.0008773311927595729  | loss: 2.339865959584131e-06\n",
      "4900  | test: 0.0008758607968665673  | loss: 1.9861225700879003e-06\n"
     ]
    }
   ],
   "source": [
    "num_steps = 5000\n",
    "n_logging = 100\n",
    "n_test_logg = 10\n",
    "\n",
    "tf.global_variables_initializer().run()\n",
    "print('Initialized')\n",
    "\n",
    "mean_loss= 0\n",
    "train_accuracy= 0\n",
    "for step in range(num_steps):\n",
    "    batch_X= train_X\n",
    "    batch_y= train_y\n",
    "    \n",
    "        \n",
    "    feed_dict = {train.inputs : batch_X, train.loss.labels : batch_y, drop_prob:0.0}\n",
    "    ops = [optimizer, tf.convert_to_tensor(train.loss), \n",
    "           tf.convert_to_tensor(train.outputs)]\n",
    "    _, l, train_pred = sess.run(ops,feed_dict=feed_dict)\n",
    "    mean_loss += l    \n",
    "    \n",
    "    if step%n_logging == 0:                \n",
    "        # test\n",
    "        pred = test.outputs.eval(feed_dict={test.inputs: test_X, drop_prob: 0.0})\n",
    "            \n",
    "        test_error = np.sum( np.power(pred-test_y, 2.0) )/2.0\n",
    "        \n",
    "        # print            \n",
    "        print(step, ' | test:', test_error, ' | loss:', mean_loss/n_logging)\n",
    "        mean_loss= 0\n",
    "mean_loss = mean_loss/n_logging"
   ]
  },
  {
   "cell_type": "code",
   "execution_count": 8,
   "metadata": {},
   "outputs": [
    {
     "data": {
      "text/plain": [
       "[<matplotlib.lines.Line2D at 0x7f5c944714a8>]"
      ]
     },
     "execution_count": 8,
     "metadata": {},
     "output_type": "execute_result"
    },
    {
     "data": {
      "image/png": "[encoded data removed]",
      "text/plain": [
       "<Figure size 432x288 with 1 Axes>"
      ]
     },
     "metadata": {
      "needs_background": "light"
     },
     "output_type": "display_data"
    }
   ],
   "source": [
    "%matplotlib inline\n",
    "import matplotlib.pyplot as plt\n",
    "\n",
    "pred = train.outputs.eval(feed_dict={train.inputs: train_X, drop_prob: 0.0})\n",
    "\n",
    "plt.plot(np.arange(pred.shape[0]), pred, 'b')\n",
    "plt.plot(np.arange(pred.shape[0]), pred, 'ro')\n",
    "\n",
    "plt.plot(np.arange(train_y.shape[0]), train_y)\n"
   ]
  },
  {
   "cell_type": "code",
   "execution_count": 9,
   "metadata": {},
   "outputs": [
    {
     "data": {
      "text/plain": [
       "[<matplotlib.lines.Line2D at 0x7f5c942f6048>]"
      ]
     },
     "execution_count": 9,
     "metadata": {},
     "output_type": "execute_result"
    },
    {
     "data": {
      "image/png": "[encoded data removed]",
      "text/plain": [
       "<Figure size 432x288 with 1 Axes>"
      ]
     },
     "metadata": {
      "needs_background": "light"
     },
     "output_type": "display_data"
    }
   ],
   "source": [
    "pred = test.outputs.eval(feed_dict={test.inputs: test_X, drop_prob: 0.0})\n",
    "\n",
    "plt.plot(np.arange(pred.shape[0]), pred, 'b')\n",
    "plt.plot(np.arange(pred.shape[0]), pred, 'ro')\n",
    "plt.plot(np.arange(test_y.shape[0]), test_y)\n"
   ]
  },
  {
   "cell_type": "code",
   "execution_count": 10,
   "metadata": {},
   "outputs": [
    {
     "data": {
      "text/plain": [
       "[<tf.Variable 'AffineLayer_1/kernel/kernel:0' shape=(30, 1) dtype=float32>,\n",
       " <tf.Variable 'AffineLayer/kernel/kernel:0' shape=(1, 30) dtype=float32>,\n",
       " <tf.Variable 'AffineLayer_1/bias/bias:0' shape=(1,) dtype=float32>,\n",
       " <tf.Variable 'AffineLayer/bias/bias:0' shape=(30,) dtype=float32>]"
      ]
     },
     "execution_count": 10,
     "metadata": {},
     "output_type": "execute_result"
    }
   ],
   "source": [
    "tdl.get_trainable(mlp_net)"
   ]
  },
  {
   "cell_type": "code",
   "execution_count": 11,
   "metadata": {},
   "outputs": [],
   "source": [
    "assert (test_error<0.5) and ((mean_loss<0.001)), \"Error of mlp higher than expected\"\n",
    "#assert (sorted([w.name for w in tdl.get_trainable(mlp_net)]) ==\n",
    "#        sorted(['MlpNet/layers/DenseLayer/weights/W:0',\n",
    "#                'MlpNet/layers/AffineLayer/weights/W:0', \n",
    "#                'MlpNet/layers/AffineLayer/bias/b:0',\n",
    "#                'MlpNet/layers/DenseLayer/bias/b:0'])), 'Naming convention incorrect'"
   ]
  },
  {
   "cell_type": "code",
   "execution_count": null,
   "metadata": {},
   "outputs": [],
   "source": []
  }
 ],
 "metadata": {
  "anaconda-cloud": {},
  "kernelspec": {
   "display_name": "Python 3",
   "language": "python",
   "name": "python3"
  },
  "language_info": {
   "codemirror_mode": {
    "name": "ipython",
    "version": 3
   },
   "file_extension": ".py",
   "mimetype": "text/x-python",
   "name": "python",
   "nbconvert_exporter": "python",
   "pygments_lexer": "ipython3",
   "version": "3.5.2"
  }
 },
 "nbformat": 4,
 "nbformat_minor": 2
}
